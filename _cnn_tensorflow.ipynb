{
  "nbformat": 4,
  "nbformat_minor": 0,
  "metadata": {
    "colab": {
      "name": "_cnn tensorflow.ipynb",
      "version": "0.3.2",
      "provenance": [],
      "collapsed_sections": []
    },
    "kernelspec": {
      "name": "python3",
      "display_name": "Python 3"
    },
    "accelerator": "GPU"
  },
  "cells": [
    {
      "cell_type": "code",
      "metadata": {
        "id": "WfmbxgnnMMG5",
        "colab_type": "code",
        "colab": {}
      },
      "source": [
        "import numpy as np\n",
        "import pandas as pd"
      ],
      "execution_count": 0,
      "outputs": []
    },
    {
      "cell_type": "code",
      "metadata": {
        "id": "kbZzXki4Mk6v",
        "colab_type": "code",
        "colab": {}
      },
      "source": [
        "import tensorflow as tf"
      ],
      "execution_count": 0,
      "outputs": []
    },
    {
      "cell_type": "code",
      "metadata": {
        "id": "sY1xawpCMoxc",
        "colab_type": "code",
        "outputId": "e7195a60-c8ab-4111-daa0-9ea318d64954",
        "colab": {
          "base_uri": "https://localhost:8080/",
          "height": 215
        }
      },
      "source": [
        "dataset = pd.read_csv('./Churn_Modelling.csv')\n",
        "dataset.head()"
      ],
      "execution_count": 24,
      "outputs": [
        {
          "output_type": "execute_result",
          "data": {
            "text/html": [
              "<div>\n",
              "<style scoped>\n",
              "    .dataframe tbody tr th:only-of-type {\n",
              "        vertical-align: middle;\n",
              "    }\n",
              "\n",
              "    .dataframe tbody tr th {\n",
              "        vertical-align: top;\n",
              "    }\n",
              "\n",
              "    .dataframe thead th {\n",
              "        text-align: right;\n",
              "    }\n",
              "</style>\n",
              "<table border=\"1\" class=\"dataframe\">\n",
              "  <thead>\n",
              "    <tr style=\"text-align: right;\">\n",
              "      <th></th>\n",
              "      <th>RowNumber</th>\n",
              "      <th>CustomerId</th>\n",
              "      <th>Surname</th>\n",
              "      <th>CreditScore</th>\n",
              "      <th>Geography</th>\n",
              "      <th>Gender</th>\n",
              "      <th>Age</th>\n",
              "      <th>Tenure</th>\n",
              "      <th>Balance</th>\n",
              "      <th>NumOfProducts</th>\n",
              "      <th>HasCrCard</th>\n",
              "      <th>IsActiveMember</th>\n",
              "      <th>EstimatedSalary</th>\n",
              "      <th>Exited</th>\n",
              "    </tr>\n",
              "  </thead>\n",
              "  <tbody>\n",
              "    <tr>\n",
              "      <th>0</th>\n",
              "      <td>1</td>\n",
              "      <td>15634602</td>\n",
              "      <td>Hargrave</td>\n",
              "      <td>619</td>\n",
              "      <td>France</td>\n",
              "      <td>Female</td>\n",
              "      <td>42</td>\n",
              "      <td>2</td>\n",
              "      <td>0.00</td>\n",
              "      <td>1</td>\n",
              "      <td>1</td>\n",
              "      <td>1</td>\n",
              "      <td>101348.88</td>\n",
              "      <td>1</td>\n",
              "    </tr>\n",
              "    <tr>\n",
              "      <th>1</th>\n",
              "      <td>2</td>\n",
              "      <td>15647311</td>\n",
              "      <td>Hill</td>\n",
              "      <td>608</td>\n",
              "      <td>Spain</td>\n",
              "      <td>Female</td>\n",
              "      <td>41</td>\n",
              "      <td>1</td>\n",
              "      <td>83807.86</td>\n",
              "      <td>1</td>\n",
              "      <td>0</td>\n",
              "      <td>1</td>\n",
              "      <td>112542.58</td>\n",
              "      <td>0</td>\n",
              "    </tr>\n",
              "    <tr>\n",
              "      <th>2</th>\n",
              "      <td>3</td>\n",
              "      <td>15619304</td>\n",
              "      <td>Onio</td>\n",
              "      <td>502</td>\n",
              "      <td>France</td>\n",
              "      <td>Female</td>\n",
              "      <td>42</td>\n",
              "      <td>8</td>\n",
              "      <td>159660.80</td>\n",
              "      <td>3</td>\n",
              "      <td>1</td>\n",
              "      <td>0</td>\n",
              "      <td>113931.57</td>\n",
              "      <td>1</td>\n",
              "    </tr>\n",
              "    <tr>\n",
              "      <th>3</th>\n",
              "      <td>4</td>\n",
              "      <td>15701354</td>\n",
              "      <td>Boni</td>\n",
              "      <td>699</td>\n",
              "      <td>France</td>\n",
              "      <td>Female</td>\n",
              "      <td>39</td>\n",
              "      <td>1</td>\n",
              "      <td>0.00</td>\n",
              "      <td>2</td>\n",
              "      <td>0</td>\n",
              "      <td>0</td>\n",
              "      <td>93826.63</td>\n",
              "      <td>0</td>\n",
              "    </tr>\n",
              "    <tr>\n",
              "      <th>4</th>\n",
              "      <td>5</td>\n",
              "      <td>15737888</td>\n",
              "      <td>Mitchell</td>\n",
              "      <td>850</td>\n",
              "      <td>Spain</td>\n",
              "      <td>Female</td>\n",
              "      <td>43</td>\n",
              "      <td>2</td>\n",
              "      <td>125510.82</td>\n",
              "      <td>1</td>\n",
              "      <td>1</td>\n",
              "      <td>1</td>\n",
              "      <td>79084.10</td>\n",
              "      <td>0</td>\n",
              "    </tr>\n",
              "  </tbody>\n",
              "</table>\n",
              "</div>"
            ],
            "text/plain": [
              "   RowNumber  CustomerId   Surname  ...  IsActiveMember EstimatedSalary Exited\n",
              "0          1    15634602  Hargrave  ...               1       101348.88      1\n",
              "1          2    15647311      Hill  ...               1       112542.58      0\n",
              "2          3    15619304      Onio  ...               0       113931.57      1\n",
              "3          4    15701354      Boni  ...               0        93826.63      0\n",
              "4          5    15737888  Mitchell  ...               1        79084.10      0\n",
              "\n",
              "[5 rows x 14 columns]"
            ]
          },
          "metadata": {
            "tags": []
          },
          "execution_count": 24
        }
      ]
    },
    {
      "cell_type": "code",
      "metadata": {
        "id": "nkPDQMNmSp6U",
        "colab_type": "code",
        "outputId": "978a8729-61ca-43cc-edf7-49d56ffcf280",
        "colab": {
          "base_uri": "https://localhost:8080/",
          "height": 34
        }
      },
      "source": [
        "dataset.shape"
      ],
      "execution_count": 25,
      "outputs": [
        {
          "output_type": "execute_result",
          "data": {
            "text/plain": [
              "(10000, 14)"
            ]
          },
          "metadata": {
            "tags": []
          },
          "execution_count": 25
        }
      ]
    },
    {
      "cell_type": "code",
      "metadata": {
        "id": "2jDGkpaNTiu-",
        "colab_type": "code",
        "colab": {
          "base_uri": "https://localhost:8080/",
          "height": 87
        },
        "outputId": "82e897fb-add2-4af0-b2c7-e176d8d44612"
      },
      "source": [
        "dataset.columns"
      ],
      "execution_count": 26,
      "outputs": [
        {
          "output_type": "execute_result",
          "data": {
            "text/plain": [
              "Index(['RowNumber', 'CustomerId', 'Surname', 'CreditScore', 'Geography',\n",
              "       'Gender', 'Age', 'Tenure', 'Balance', 'NumOfProducts', 'HasCrCard',\n",
              "       'IsActiveMember', 'EstimatedSalary', 'Exited'],\n",
              "      dtype='object')"
            ]
          },
          "metadata": {
            "tags": []
          },
          "execution_count": 26
        }
      ]
    },
    {
      "cell_type": "code",
      "metadata": {
        "id": "Z4U_zmf-Tjcy",
        "colab_type": "code",
        "colab": {
          "base_uri": "https://localhost:8080/",
          "height": 34
        },
        "outputId": "9add731d-8c43-476d-92f6-6ed507b9bb07"
      },
      "source": [
        "dataset.drop(['RowNumber', 'CustomerId', 'Surname', 'Gender'], inplace = True, axis = 1)\n",
        "dataset.shape"
      ],
      "execution_count": 27,
      "outputs": [
        {
          "output_type": "execute_result",
          "data": {
            "text/plain": [
              "(10000, 10)"
            ]
          },
          "metadata": {
            "tags": []
          },
          "execution_count": 27
        }
      ]
    },
    {
      "cell_type": "code",
      "metadata": {
        "id": "K7fyBv3qTj7S",
        "colab_type": "code",
        "colab": {}
      },
      "source": [
        "from sklearn.preprocessing import OneHotEncoder\n",
        "onehot = OneHotEncoder() \n",
        "x = onehot.fit_transform(dataset.Geography.values.reshape(-1,1)).toarray()"
      ],
      "execution_count": 0,
      "outputs": []
    },
    {
      "cell_type": "code",
      "metadata": {
        "id": "5xy36jfiTkZR",
        "colab_type": "code",
        "colab": {
          "base_uri": "https://localhost:8080/",
          "height": 34
        },
        "outputId": "3010a3f7-8640-4b0a-c2bd-ab5c28287e87"
      },
      "source": [
        "onehot.categories_, x.shape"
      ],
      "execution_count": 29,
      "outputs": [
        {
          "output_type": "execute_result",
          "data": {
            "text/plain": [
              "([array(['France', 'Germany', 'Spain'], dtype=object)], (10000, 3))"
            ]
          },
          "metadata": {
            "tags": []
          },
          "execution_count": 29
        }
      ]
    },
    {
      "cell_type": "code",
      "metadata": {
        "id": "BVGSQ_aVU_sp",
        "colab_type": "code",
        "colab": {
          "base_uri": "https://localhost:8080/",
          "height": 34
        },
        "outputId": "bb8bdd0d-8d76-4a95-d6a5-366d35745391"
      },
      "source": [
        "dataset.drop('Geography', axis =1, inplace = True)\n",
        "dataset['France'] = x[:, 0]\n",
        "dataset['Germany'] = x[:, 1]\n",
        "dataset.shape"
      ],
      "execution_count": 30,
      "outputs": [
        {
          "output_type": "execute_result",
          "data": {
            "text/plain": [
              "(10000, 11)"
            ]
          },
          "metadata": {
            "tags": []
          },
          "execution_count": 30
        }
      ]
    },
    {
      "cell_type": "code",
      "metadata": {
        "id": "7S--zX6vVAN4",
        "colab_type": "code",
        "colab": {
          "base_uri": "https://localhost:8080/",
          "height": 195
        },
        "outputId": "5265da98-f11a-447f-df5d-ba3e6dca6621"
      },
      "source": [
        "dataset.drop(['Age', \"Exited\"], inplace= True, axis = 1)\n",
        "dataset.head()"
      ],
      "execution_count": 31,
      "outputs": [
        {
          "output_type": "execute_result",
          "data": {
            "text/html": [
              "<div>\n",
              "<style scoped>\n",
              "    .dataframe tbody tr th:only-of-type {\n",
              "        vertical-align: middle;\n",
              "    }\n",
              "\n",
              "    .dataframe tbody tr th {\n",
              "        vertical-align: top;\n",
              "    }\n",
              "\n",
              "    .dataframe thead th {\n",
              "        text-align: right;\n",
              "    }\n",
              "</style>\n",
              "<table border=\"1\" class=\"dataframe\">\n",
              "  <thead>\n",
              "    <tr style=\"text-align: right;\">\n",
              "      <th></th>\n",
              "      <th>CreditScore</th>\n",
              "      <th>Tenure</th>\n",
              "      <th>Balance</th>\n",
              "      <th>NumOfProducts</th>\n",
              "      <th>HasCrCard</th>\n",
              "      <th>IsActiveMember</th>\n",
              "      <th>EstimatedSalary</th>\n",
              "      <th>France</th>\n",
              "      <th>Germany</th>\n",
              "    </tr>\n",
              "  </thead>\n",
              "  <tbody>\n",
              "    <tr>\n",
              "      <th>0</th>\n",
              "      <td>619</td>\n",
              "      <td>2</td>\n",
              "      <td>0.00</td>\n",
              "      <td>1</td>\n",
              "      <td>1</td>\n",
              "      <td>1</td>\n",
              "      <td>101348.88</td>\n",
              "      <td>1.0</td>\n",
              "      <td>0.0</td>\n",
              "    </tr>\n",
              "    <tr>\n",
              "      <th>1</th>\n",
              "      <td>608</td>\n",
              "      <td>1</td>\n",
              "      <td>83807.86</td>\n",
              "      <td>1</td>\n",
              "      <td>0</td>\n",
              "      <td>1</td>\n",
              "      <td>112542.58</td>\n",
              "      <td>0.0</td>\n",
              "      <td>0.0</td>\n",
              "    </tr>\n",
              "    <tr>\n",
              "      <th>2</th>\n",
              "      <td>502</td>\n",
              "      <td>8</td>\n",
              "      <td>159660.80</td>\n",
              "      <td>3</td>\n",
              "      <td>1</td>\n",
              "      <td>0</td>\n",
              "      <td>113931.57</td>\n",
              "      <td>1.0</td>\n",
              "      <td>0.0</td>\n",
              "    </tr>\n",
              "    <tr>\n",
              "      <th>3</th>\n",
              "      <td>699</td>\n",
              "      <td>1</td>\n",
              "      <td>0.00</td>\n",
              "      <td>2</td>\n",
              "      <td>0</td>\n",
              "      <td>0</td>\n",
              "      <td>93826.63</td>\n",
              "      <td>1.0</td>\n",
              "      <td>0.0</td>\n",
              "    </tr>\n",
              "    <tr>\n",
              "      <th>4</th>\n",
              "      <td>850</td>\n",
              "      <td>2</td>\n",
              "      <td>125510.82</td>\n",
              "      <td>1</td>\n",
              "      <td>1</td>\n",
              "      <td>1</td>\n",
              "      <td>79084.10</td>\n",
              "      <td>0.0</td>\n",
              "      <td>0.0</td>\n",
              "    </tr>\n",
              "  </tbody>\n",
              "</table>\n",
              "</div>"
            ],
            "text/plain": [
              "   CreditScore  Tenure    Balance  ...  EstimatedSalary  France  Germany\n",
              "0          619       2       0.00  ...        101348.88     1.0      0.0\n",
              "1          608       1   83807.86  ...        112542.58     0.0      0.0\n",
              "2          502       8  159660.80  ...        113931.57     1.0      0.0\n",
              "3          699       1       0.00  ...         93826.63     1.0      0.0\n",
              "4          850       2  125510.82  ...         79084.10     0.0      0.0\n",
              "\n",
              "[5 rows x 9 columns]"
            ]
          },
          "metadata": {
            "tags": []
          },
          "execution_count": 31
        }
      ]
    },
    {
      "cell_type": "code",
      "metadata": {
        "id": "6pmWI5VRW2yI",
        "colab_type": "code",
        "colab": {
          "base_uri": "https://localhost:8080/",
          "height": 34
        },
        "outputId": "e836fabf-1208-4951-b9b3-c2300a0ef0bf"
      },
      "source": [
        "y = dataset.IsActiveMember.values\n",
        "X = dataset.iloc[:, [0,1,2,3,4,6,7,8]].values\n",
        "y.shape , X.shape"
      ],
      "execution_count": 32,
      "outputs": [
        {
          "output_type": "execute_result",
          "data": {
            "text/plain": [
              "((10000,), (10000, 8))"
            ]
          },
          "metadata": {
            "tags": []
          },
          "execution_count": 32
        }
      ]
    },
    {
      "cell_type": "code",
      "metadata": {
        "id": "GuMRQGezXbsY",
        "colab_type": "code",
        "colab": {
          "base_uri": "https://localhost:8080/",
          "height": 34
        },
        "outputId": "39df53b3-848f-4e3c-9971-4855de62a8bb"
      },
      "source": [
        "from sklearn.model_selection import train_test_split\n",
        "X_train, X_test, y_train, y_test = train_test_split(X, y)\n",
        "X_train .shape , X_test.shape"
      ],
      "execution_count": 33,
      "outputs": [
        {
          "output_type": "execute_result",
          "data": {
            "text/plain": [
              "((7500, 8), (2500, 8))"
            ]
          },
          "metadata": {
            "tags": []
          },
          "execution_count": 33
        }
      ]
    },
    {
      "cell_type": "code",
      "metadata": {
        "id": "z1bLdHILT0Tu",
        "colab_type": "code",
        "colab": {}
      },
      "source": [
        "input_layer = 8\n",
        "\n",
        "n_hidden1 = 32\n",
        "n_hidden2 = 64\n",
        "n_hidden3 = 16\n",
        "\n",
        "n_out = 1"
      ],
      "execution_count": 0,
      "outputs": []
    },
    {
      "cell_type": "code",
      "metadata": {
        "id": "laTrt8ehcbOt",
        "colab_type": "code",
        "colab": {}
      },
      "source": [
        "weights = {\n",
        "    'wh1' : tf.Variable(tf.random_uniform([input_layer, n_hidden1])),\n",
        "    'wh2' : tf.Variable(tf.random_uniform([n_hidden1, n_hidden2])),\n",
        "    'wh3' : tf.Variable(tf.random_uniform([n_hidden2, n_hidden3])),\n",
        "    'wo' : tf.Variable(tf.random_uniform([n_hidden3, n_out]))\n",
        "}\n",
        "\n",
        "biases = {\n",
        "    'bh1' : tf.Variable(tf.random_uniform([n_hidden1])),\n",
        "    'bh2' : tf.Variable(tf.random_uniform([n_hidden2])),\n",
        "    'bh3' : tf.Variable(tf.random_uniform([n_hidden3])),\n",
        "    'bo' : tf.Variable(tf.random_uniform([n_out]))\n",
        "}"
      ],
      "execution_count": 0,
      "outputs": []
    },
    {
      "cell_type": "code",
      "metadata": {
        "id": "BKlAVrpVp-zn",
        "colab_type": "code",
        "colab": {}
      },
      "source": [
        "def fwd(x, weights, biases):\n",
        "    \n",
        "    hidden1_out_before = tf.add(tf.matmul(x, weights['wh1']), biases['bh1'])\n",
        "    hidden1_out = tf.nn.relu(hidden1_out_before)\n",
        "    \n",
        "    hidden2_out_before = tf.add(tf.matmul(hidden1_out, weights['wh2']), biases['bh2'])\n",
        "    hidden2_out = tf.nn.relu(hidden2_out_before)\n",
        "    \n",
        "    hidden3_out_before = tf.add(tf.matmul(hidden2_out, weights['wh3']), biases['bh3'])\n",
        "    hidden3_out = tf.nn.relu(hidden3_out_before)\n",
        "    \n",
        "    \n",
        "    output = tf.add(tf.matmul(hidden3_out, weights['wo']), biases['bo'])\n",
        "    output = tf.nn.relu(output)\n",
        "    \n",
        "    return output"
      ],
      "execution_count": 0,
      "outputs": []
    },
    {
      "cell_type": "code",
      "metadata": {
        "id": "lMCAvuNEt6wh",
        "colab_type": "code",
        "colab": {}
      },
      "source": [
        "x = tf.placeholder('float', [None, input_layer])\n",
        "y = tf.placeholder('float', [None, n_out])"
      ],
      "execution_count": 0,
      "outputs": []
    },
    {
      "cell_type": "code",
      "metadata": {
        "id": "6OZmquWjt-nw",
        "colab_type": "code",
        "colab": {}
      },
      "source": [
        "pred = fwd(x, weights, biases)"
      ],
      "execution_count": 0,
      "outputs": []
    },
    {
      "cell_type": "code",
      "metadata": {
        "id": "_qihbDmn8FfC",
        "colab_type": "code",
        "colab": {}
      },
      "source": [
        "cost = tf.reduce_mean(tf.nn.sigmoid_cross_entropy_with_logits(logits= pred, labels= y))"
      ],
      "execution_count": 0,
      "outputs": []
    },
    {
      "cell_type": "code",
      "metadata": {
        "id": "74WuaC089PL8",
        "colab_type": "code",
        "colab": {}
      },
      "source": [
        "optimizer = tf.train.AdamOptimizer(learning_rate= 0.01)\n",
        "optimize = optimizer.minimize(cost)"
      ],
      "execution_count": 0,
      "outputs": []
    },
    {
      "cell_type": "code",
      "metadata": {
        "id": "oTJaj5lB9pi1",
        "colab_type": "code",
        "colab": {}
      },
      "source": [
        "sess = tf.Session()\n",
        "sess.run(tf.global_variables_initializer())"
      ],
      "execution_count": 0,
      "outputs": []
    },
    {
      "cell_type": "code",
      "metadata": {
        "id": "cASExXSz-UTy",
        "colab_type": "code",
        "outputId": "b99f916b-0792-48cf-868b-25ff922ea8aa",
        "colab": {
          "base_uri": "https://localhost:8080/",
          "height": 1000
        }
      },
      "source": [
        "for i in range(100):\n",
        "    batch_x = X_train\n",
        "    batch_y = y_train.reshape(-1, 1)\n",
        "    c, _ = sess.run([cost,optimize], feed_dict={x:batch_x , y:batch_y})\n",
        "    print(c)"
      ],
      "execution_count": 60,
      "outputs": [
        {
          "output_type": "stream",
          "text": [
            "220979360.0\n",
            "204759870.0\n",
            "189486020.0\n",
            "175129820.0\n",
            "161666450.0\n",
            "149068260.0\n",
            "137304860.0\n",
            "126343624.0\n",
            "116149944.0\n",
            "106693070.0\n",
            "97987430.0\n",
            "89945710.0\n",
            "82514380.0\n",
            "75656590.0\n",
            "69336264.0\n",
            "63519776.0\n",
            "58176196.0\n",
            "53267830.0\n",
            "48764500.0\n",
            "44641156.0\n",
            "40866468.0\n",
            "37409476.0\n",
            "34245036.0\n",
            "31349626.0\n",
            "28701050.0\n",
            "26278804.0\n",
            "24063694.0\n",
            "22037944.0\n",
            "20185236.0\n",
            "18490420.0\n",
            "16939614.0\n",
            "15520357.0\n",
            "14221052.0\n",
            "13031135.0\n",
            "11940908.0\n",
            "10941991.0\n",
            "10024974.0\n",
            "9180872.0\n",
            "8402670.0\n",
            "7684220.5\n",
            "7020034.5\n",
            "6405618.0\n",
            "5835830.5\n",
            "5306475.0\n",
            "4813792.0\n",
            "4354356.0\n",
            "3925051.0\n",
            "3523025.0\n",
            "3145687.0\n",
            "2790662.8\n",
            "2455776.2\n",
            "2139032.5\n",
            "1838597.8\n",
            "1552780.5\n",
            "1280019.2\n",
            "1019073.0\n",
            "768799.8\n",
            "527516.6\n",
            "294042.94\n",
            "67273.766\n",
            "0.7678573\n",
            "0.6931472\n",
            "0.6931472\n",
            "0.6931472\n",
            "0.6931472\n",
            "0.6931472\n",
            "0.6931472\n",
            "0.6931472\n",
            "0.6931472\n",
            "0.6931472\n",
            "0.6931472\n",
            "0.6931472\n",
            "0.6931472\n",
            "0.6931472\n",
            "0.6931472\n",
            "0.6931472\n",
            "0.6931472\n",
            "0.6931472\n",
            "0.6931472\n",
            "0.6931472\n",
            "0.6931472\n",
            "0.6931472\n",
            "0.6931472\n",
            "0.6931472\n",
            "0.6931472\n",
            "0.6931472\n",
            "0.6931472\n",
            "0.6931472\n",
            "0.6931472\n",
            "0.6931472\n",
            "0.6931472\n",
            "0.6931472\n",
            "0.6931472\n",
            "0.6931472\n",
            "0.6931472\n",
            "0.6931472\n",
            "0.6931472\n",
            "0.6931472\n",
            "0.6931472\n",
            "0.6931472\n"
          ],
          "name": "stdout"
        }
      ]
    },
    {
      "cell_type": "code",
      "metadata": {
        "id": "HnpVape5-eqH",
        "colab_type": "code",
        "outputId": "81257f60-9c68-402b-8b3d-422b11b60fdf",
        "colab": {
          "base_uri": "https://localhost:8080/",
          "height": 34
        }
      },
      "source": [
        "predictions = tf.argmax(pred, 1)\n",
        "correct_labels = tf.argmax(y, 1)\n",
        "correct_predictions = tf.equal(predictions, correct_labels)\n",
        "predictions,correct_preds  = sess.run([predictions, correct_predictions], feed_dict={x:mnist.test.images,\n",
        "                                              y:mnist.test.labels, keep_prob: 1.0})\n",
        "correct_preds.sum()"
      ],
      "execution_count": 0,
      "outputs": [
        {
          "output_type": "execute_result",
          "data": {
            "text/plain": [
              "9745"
            ]
          },
          "metadata": {
            "tags": []
          },
          "execution_count": 101
        }
      ]
    },
    {
      "cell_type": "code",
      "metadata": {
        "id": "OsqUVdl6_Tmo",
        "colab_type": "code",
        "colab": {}
      },
      "source": [
        ""
      ],
      "execution_count": 0,
      "outputs": []
    }
  ]
}